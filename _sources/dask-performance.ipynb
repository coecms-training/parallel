{
 "cells": [
  {
   "cell_type": "markdown",
   "id": "permanent-struggle",
   "metadata": {},
   "source": [
    "# Performance\n",
    "\n",
    "## Cluster Size\n",
    "\n",
    "### Distributed Dashboard\n",
    "\n",
    "## Choice of chunking\n",
    "\n",
    "### Chunk size\n",
    "\n",
    "### Chunk shape\n",
    "\n",
    "### NetCDF file chunking\n",
    "\n",
    "## Task Graph\n",
    "\n",
    "## Intermediate save & loads\n",
    "\n",
    "### to_netcdf_throttled"
   ]
  },
  {
   "cell_type": "code",
   "execution_count": null,
   "id": "spread-disabled",
   "metadata": {},
   "outputs": [],
   "source": []
  }
 ],
 "metadata": {
  "kernelspec": {
   "display_name": "Python [conda env:analysis3] *",
   "language": "python",
   "name": "conda-env-analysis3-py"
  },
  "language_info": {
   "codemirror_mode": {
    "name": "ipython",
    "version": 3
   },
   "file_extension": ".py",
   "mimetype": "text/x-python",
   "name": "python",
   "nbconvert_exporter": "python",
   "pygments_lexer": "ipython3",
   "version": "3.8.6"
  }
 },
 "nbformat": 4,
 "nbformat_minor": 5
}
