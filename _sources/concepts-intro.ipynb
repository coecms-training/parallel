{
 "cells": [
  {
   "cell_type": "markdown",
   "id": "preceding-interpretation",
   "metadata": {},
   "source": [
    "# Introduction\n",
    "\n",
    "## Ahmdhal's Law\n",
    "\n",
    "## Profiling\n",
    "\n",
    "## Types of parallelism\n",
    "\n",
    "### Trivial\n",
    "\n",
    "### Vectorised operators\n",
    "\n",
    "Fortran:\n",
    "sse/avx intrinsics\n",
    "optimisation flags\n",
    "\n",
    "Python:\n",
    "numpy\n",
    "\n",
    "### Shared Memory\n",
    "\n",
    "Fortran:\n",
    "openmp\n",
    "\n",
    "Python:\n",
    "Dask\n",
    "\n",
    "### Distributed\n",
    "\n",
    "Fortran:\n",
    "MPI\n",
    "\n",
    "Python:\n",
    "Multiprocessing\n",
    "Dask Distributed\n",
    "\n",
    "## Common Gotchas\n",
    "\n",
    "### Race Conditions\n",
    "\n",
    "### Locks"
   ]
  },
  {
   "cell_type": "code",
   "execution_count": null,
   "id": "overall-tolerance",
   "metadata": {},
   "outputs": [],
   "source": []
  }
 ],
 "metadata": {
  "kernelspec": {
   "display_name": "Python [conda env:analysis3] *",
   "language": "python",
   "name": "conda-env-analysis3-py"
  },
  "language_info": {
   "codemirror_mode": {
    "name": "ipython",
    "version": 3
   },
   "file_extension": ".py",
   "mimetype": "text/x-python",
   "name": "python",
   "nbconvert_exporter": "python",
   "pygments_lexer": "ipython3",
   "version": "3.8.6"
  }
 },
 "nbformat": 4,
 "nbformat_minor": 5
}
