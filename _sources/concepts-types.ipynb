{
 "cells": [
  {
   "cell_type": "markdown",
   "id": "comfortable-driving",
   "metadata": {},
   "source": [
    "## Types of parallelism\n",
    "\n",
    "### Embarissingly Parallel\n",
    "\n",
    "### Vectorised operators\n",
    "\n",
    "Fortran:\n",
    "sse/avx intrinsics\n",
    "optimisation flags\n",
    "\n",
    "Python:\n",
    "numpy\n",
    "\n",
    "### Shared Memory\n",
    "\n",
    "Fortran:\n",
    "openmp\n",
    "\n",
    "Python:\n",
    "Dask\n",
    "\n",
    "### Distributed\n",
    "\n",
    "Fortran:\n",
    "MPI\n",
    "\n",
    "Python:\n",
    "Multiprocessing\n",
    "Dask Distributed\n",
    "\n",
    "## Design Patterns\n",
    "\n",
    "## Common Gotchas\n",
    "\n",
    "### Race Conditions\n",
    "\n",
    "### Locks"
   ]
  },
  {
   "cell_type": "code",
   "execution_count": null,
   "id": "human-rwanda",
   "metadata": {},
   "outputs": [],
   "source": []
  }
 ],
 "metadata": {
  "kernelspec": {
   "display_name": "Python [conda env:analysis3] *",
   "language": "python",
   "name": "conda-env-analysis3-py"
  },
  "language_info": {
   "codemirror_mode": {
    "name": "ipython",
    "version": 3
   },
   "file_extension": ".py",
   "mimetype": "text/x-python",
   "name": "python",
   "nbconvert_exporter": "python",
   "pygments_lexer": "ipython3",
   "version": "3.8.6"
  }
 },
 "nbformat": 4,
 "nbformat_minor": 5
}
