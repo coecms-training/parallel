{
 "cells": [
  {
   "cell_type": "markdown",
   "id": "saved-bidder",
   "metadata": {},
   "source": [
    "# Climatology Threshold\n",
    "\n",
    "Given a daily dataset $D$, the mean climatology of that dataset $C_D$ and a threshold value $T_D$ for each day of the year, calculate the severity index\n",
    "\n",
    "$$ S = {{D - C_D}\\over{T_D - C_D}} $$\n",
    "\n",
    "We need to match up each day in $D$ with the corresponding day in $C_D$ and $T_D$, and perform a two step operation on it."
   ]
  },
  {
   "cell_type": "code",
   "execution_count": 2,
   "id": "impaired-brazilian",
   "metadata": {},
   "outputs": [],
   "source": [
    "import xarray\n",
    "import climtas\n",
    "import climtas.nci\n",
    "import intake"
   ]
  },
  {
   "cell_type": "markdown",
   "id": "fatal-navigator",
   "metadata": {},
   "source": [
    "As a starting point, I'll look at a single year's data, with ERA5 daily tmax as the source dataset."
   ]
  },
  {
   "cell_type": "code",
   "execution_count": null,
   "id": "greatest-people",
   "metadata": {},
   "outputs": [],
   "source": []
  }
 ],
 "metadata": {
  "kernelspec": {
   "display_name": "Python [conda env:analysis3] *",
   "language": "python",
   "name": "conda-env-analysis3-py"
  },
  "language_info": {
   "codemirror_mode": {
    "name": "ipython",
    "version": 3
   },
   "file_extension": ".py",
   "mimetype": "text/x-python",
   "name": "python",
   "nbconvert_exporter": "python",
   "pygments_lexer": "ipython3",
   "version": "3.8.6"
  }
 },
 "nbformat": 4,
 "nbformat_minor": 5
}
