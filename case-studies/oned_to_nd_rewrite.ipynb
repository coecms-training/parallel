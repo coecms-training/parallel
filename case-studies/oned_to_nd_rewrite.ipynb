{
 "cells": [
  {
   "cell_type": "markdown",
   "id": "032b2c96-4018-47a8-9e41-ba5f8b6339ff",
   "metadata": {},
   "source": [
    "# Converting a function from 1D to ND - slice method\n",
    "\n",
    "We have a function that works along the time axis, but only for 1D data. We'd like to convert it to work on a full dataset."
   ]
  },
  {
   "cell_type": "code",
   "execution_count": 1,
   "id": "febf5009-df97-40fa-9e54-0b364c0f9864",
   "metadata": {},
   "outputs": [],
   "source": [
    "import numpy as np\n",
    "\n",
    "def s_kendall(data):\n",
    "    data = data[np.isfinite(data)]\n",
    "        \n",
    "    s_stor = []\n",
    "    n = len(data)\n",
    "\n",
    "    # Outer sum\n",
    "    for i in np.arange(0, n - 1):\n",
    "        # Inner sum\n",
    "        for k in np.arange(i + 1, n):\n",
    "            s_stor.append(np.sign(data[k]  - data[i]))\n",
    "\n",
    "    return np.sum(s_stor)"
   ]
  },
  {
   "cell_type": "markdown",
   "id": "3381f1cc-cc7c-4f70-b927-8c12e2463d28",
   "metadata": {},
   "source": [
    "Unlike the example {doc}`oned_to_nd`, which did a correlation along the time axis, in this case the function is just stepping along the time axis. We can modify this function so that rather than working on one point at a time it acts on an entire slice of the grid at once.\n",
    "\n",
    "The function is computing\n",
    "\n",
    "$$\n",
    "\\sum_{i=0}^{n-1}\\sum_{k=i+1}^n \\mathrm{sgn} ( D_k - D_i )\n",
    "$$\n",
    "\n",
    "We can easily re-write the function to act on a Nd array by changing the indexing a little:"
   ]
  },
  {
   "cell_type": "code",
   "execution_count": 2,
   "id": "2b5fa847-ce05-47fd-b965-12f5859fd759",
   "metadata": {},
   "outputs": [],
   "source": [
    "def s_kendall_nd(data):\n",
    "    # data = data[np.isfinite(data)] # use nansum() instead\n",
    "        \n",
    "    s_stor = []\n",
    "    n = data.shape[0] # Assume time is the first dimension\n",
    "\n",
    "    # Outer sum\n",
    "    for i in np.arange(0, n - 1):\n",
    "        # Inner sum\n",
    "        for k in np.arange(i + 1, n):\n",
    "            s_stor.append(np.sign(data[k,...]  - data[i,...])) # Use an ellipses when we don't know the number of remaining dimensions\n",
    "\n",
    "    return np.nansum(s_stor, axis=0) # The sum, excluding any non-finte values"
   ]
  },
  {
   "cell_type": "markdown",
   "id": "ffa92222-06b7-4be7-a0eb-9ab8cd5bfb99",
   "metadata": {},
   "source": [
    "Now we have two versions of the function, lets test them to make sure they give the same values."
   ]
  },
  {
   "cell_type": "code",
   "execution_count": 3,
   "id": "6903ee0b-f601-44f3-a0cf-8606e0accab1",
   "metadata": {},
   "outputs": [],
   "source": [
    "sample = np.random.random((10,10,10)) - 0.5 # Random values between -0.5 and 0.5"
   ]
  },
  {
   "cell_type": "markdown",
   "id": "e3c15ed2-bbb8-4192-a9ca-67413b4a915a",
   "metadata": {},
   "source": [
    "First the 1d function:"
   ]
  },
  {
   "cell_type": "code",
   "execution_count": 4,
   "id": "72901c24-c66b-40d8-93a9-35e4f97646de",
   "metadata": {},
   "outputs": [
    {
     "data": {
      "text/plain": [
       "-13.0"
      ]
     },
     "execution_count": 4,
     "metadata": {},
     "output_type": "execute_result"
    }
   ],
   "source": [
    "a = s_kendall(sample[:,0,0])\n",
    "a"
   ]
  },
  {
   "cell_type": "markdown",
   "id": "b2edf810-8630-4f9b-8ba2-0d9b8cebb0cf",
   "metadata": {},
   "source": [
    "Then the new slice function:"
   ]
  },
  {
   "cell_type": "code",
   "execution_count": 5,
   "id": "c7bb629c-dfd5-4698-ae3f-421454066ef5",
   "metadata": {},
   "outputs": [
    {
     "data": {
      "text/plain": [
       "-13.0"
      ]
     },
     "execution_count": 5,
     "metadata": {},
     "output_type": "execute_result"
    }
   ],
   "source": [
    "b = s_kendall_nd(sample)\n",
    "b[0,0]"
   ]
  },
  {
   "cell_type": "markdown",
   "id": "98037587-1fbb-41c2-bf12-f690e4d7428c",
   "metadata": {},
   "source": [
    "## Advantages compared to apply_along_axis\n",
    "\n",
    "Compared to using the apply_along_axis function rewriting to a slice function has the benefit that it's taking advantage of numpy's strong point - calculations on arrays.\n",
    "\n",
    "The apply_along_axis method is basically a loop over all of the points, and loops in Python are pretty slow. Operations on whole arrays on the other hand use Numpy's optimised code.\n",
    "\n",
    "It's also a better method of reading data from files. In a file you generally get all the data for a single timestep bunched together, and it's quick to read this bunched data all at once rather than having the computer search the file for all times at a single point."
   ]
  }
 ],
 "metadata": {
  "kernelspec": {
   "display_name": "Python [conda env:analysis3]",
   "language": "python",
   "name": "conda-env-analysis3-py"
  },
  "language_info": {
   "codemirror_mode": {
    "name": "ipython",
    "version": 3
   },
   "file_extension": ".py",
   "mimetype": "text/x-python",
   "name": "python",
   "nbconvert_exporter": "python",
   "pygments_lexer": "ipython3",
   "version": "3.8.6"
  }
 },
 "nbformat": 4,
 "nbformat_minor": 5
}
