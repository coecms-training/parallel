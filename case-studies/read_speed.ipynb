{
 "cells": [
  {
   "cell_type": "markdown",
   "metadata": {},
   "source": [
    "# Measuring Performance\n",
    "\n",
    "Here's some examples of how to find the optimal worker count and chunk size for different Dask operations. See the scripts in [the github repository](https://github.com/coecms-training/parallel/tree/main/case-studies/read_speed) for samples of how these were measured.\n",
    "\n",
    ":::{note}\n",
    "The first time a file is read can be quite slow if it's not in cache. When running benchmarks make sure to load the file fully once (e.g. with `data.mean().load()`) before doing any timing.\n",
    ":::"
   ]
  },
  {
   "cell_type": "code",
   "execution_count": 1,
   "metadata": {},
   "outputs": [],
   "source": [
    "import pandas\n",
    "import numpy\n",
    "import dask\n",
    "import matplotlib.pyplot as plt"
   ]
  },
  {
   "cell_type": "markdown",
   "metadata": {},
   "source": [
    "## ERA5 single level one year mean\n",
    "\n",
    "Lets look at performance for reading in a year of ERA5 single level data. This data comes from compressed netcdf files, so the time spent decompressing will affect our measurements.\n",
    "\n",
    "I've run for various chunk sizes and Dask cluster sizes\n",
    "```python\n",
    "path = \"/g/data/rt52/era5/single-levels/reanalysis/2t/2001/2t_era5_oper_sfc_*.nc\"\n",
    "with xarray.open_mfdataset(\n",
    "    path, combine=\"nested\", concat_dim=\"time\", chunks=chunks\n",
    ") as ds:\n",
    "    var = ds[variable]\n",
    "\n",
    "    start = time.perf_counter()\n",
    "    mean = var.mean().load()\n",
    "    duration = time.perf_counter() - start\n",
    "```\n",
    "and saved the results in a netcdf file"
   ]
  },
  {
   "cell_type": "code",
   "execution_count": 2,
   "metadata": {
    "tags": [
     "hide-output"
    ]
   },
   "outputs": [
    {
     "data": {
      "text/html": [
       "<div>\n",
       "<style scoped>\n",
       "    .dataframe tbody tr th:only-of-type {\n",
       "        vertical-align: middle;\n",
       "    }\n",
       "\n",
       "    .dataframe tbody tr th {\n",
       "        vertical-align: top;\n",
       "    }\n",
       "\n",
       "    .dataframe thead th {\n",
       "        text-align: right;\n",
       "    }\n",
       "</style>\n",
       "<table border=\"1\" class=\"dataframe\">\n",
       "  <thead>\n",
       "    <tr style=\"text-align: right;\">\n",
       "      <th></th>\n",
       "      <th>duration</th>\n",
       "      <th>data_size</th>\n",
       "      <th>chunk_size</th>\n",
       "      <th>time</th>\n",
       "      <th>latitude</th>\n",
       "      <th>longitude</th>\n",
       "      <th>workers</th>\n",
       "      <th>threads</th>\n",
       "    </tr>\n",
       "  </thead>\n",
       "  <tbody>\n",
       "    <tr>\n",
       "      <th>0</th>\n",
       "      <td>38.058817</td>\n",
       "      <td>36379929600</td>\n",
       "      <td>194987520</td>\n",
       "      <td>NaN</td>\n",
       "      <td>182</td>\n",
       "      <td>360</td>\n",
       "      <td>4</td>\n",
       "      <td>1</td>\n",
       "    </tr>\n",
       "    <tr>\n",
       "      <th>1</th>\n",
       "      <td>38.475415</td>\n",
       "      <td>36379929600</td>\n",
       "      <td>97493760</td>\n",
       "      <td>NaN</td>\n",
       "      <td>182</td>\n",
       "      <td>180</td>\n",
       "      <td>4</td>\n",
       "      <td>1</td>\n",
       "    </tr>\n",
       "    <tr>\n",
       "      <th>2</th>\n",
       "      <td>38.962101</td>\n",
       "      <td>36379929600</td>\n",
       "      <td>48746880</td>\n",
       "      <td>NaN</td>\n",
       "      <td>91</td>\n",
       "      <td>180</td>\n",
       "      <td>4</td>\n",
       "      <td>1</td>\n",
       "    </tr>\n",
       "    <tr>\n",
       "      <th>3</th>\n",
       "      <td>39.011292</td>\n",
       "      <td>36379929600</td>\n",
       "      <td>97493760</td>\n",
       "      <td>NaN</td>\n",
       "      <td>91</td>\n",
       "      <td>360</td>\n",
       "      <td>4</td>\n",
       "      <td>1</td>\n",
       "    </tr>\n",
       "    <tr>\n",
       "      <th>4</th>\n",
       "      <td>50.406360</td>\n",
       "      <td>36379929600</td>\n",
       "      <td>6093360</td>\n",
       "      <td>93.0</td>\n",
       "      <td>91</td>\n",
       "      <td>180</td>\n",
       "      <td>4</td>\n",
       "      <td>1</td>\n",
       "    </tr>\n",
       "    <tr>\n",
       "      <th>...</th>\n",
       "      <td>...</td>\n",
       "      <td>...</td>\n",
       "      <td>...</td>\n",
       "      <td>...</td>\n",
       "      <td>...</td>\n",
       "      <td>...</td>\n",
       "      <td>...</td>\n",
       "      <td>...</td>\n",
       "    </tr>\n",
       "    <tr>\n",
       "      <th>112</th>\n",
       "      <td>17.296662</td>\n",
       "      <td>36379929600</td>\n",
       "      <td>6093360</td>\n",
       "      <td>93.0</td>\n",
       "      <td>91</td>\n",
       "      <td>180</td>\n",
       "      <td>16</td>\n",
       "      <td>1</td>\n",
       "    </tr>\n",
       "    <tr>\n",
       "      <th>113</th>\n",
       "      <td>18.460571</td>\n",
       "      <td>36379929600</td>\n",
       "      <td>97493760</td>\n",
       "      <td>NaN</td>\n",
       "      <td>182</td>\n",
       "      <td>180</td>\n",
       "      <td>16</td>\n",
       "      <td>1</td>\n",
       "    </tr>\n",
       "    <tr>\n",
       "      <th>114</th>\n",
       "      <td>18.579301</td>\n",
       "      <td>36379929600</td>\n",
       "      <td>97493760</td>\n",
       "      <td>NaN</td>\n",
       "      <td>91</td>\n",
       "      <td>360</td>\n",
       "      <td>16</td>\n",
       "      <td>1</td>\n",
       "    </tr>\n",
       "    <tr>\n",
       "      <th>115</th>\n",
       "      <td>20.263248</td>\n",
       "      <td>36379929600</td>\n",
       "      <td>194987520</td>\n",
       "      <td>NaN</td>\n",
       "      <td>182</td>\n",
       "      <td>360</td>\n",
       "      <td>16</td>\n",
       "      <td>1</td>\n",
       "    </tr>\n",
       "    <tr>\n",
       "      <th>116</th>\n",
       "      <td>20.702859</td>\n",
       "      <td>36379929600</td>\n",
       "      <td>389975040</td>\n",
       "      <td>NaN</td>\n",
       "      <td>182</td>\n",
       "      <td>720</td>\n",
       "      <td>16</td>\n",
       "      <td>1</td>\n",
       "    </tr>\n",
       "  </tbody>\n",
       "</table>\n",
       "<p>117 rows × 8 columns</p>\n",
       "</div>"
      ],
      "text/plain": [
       "      duration    data_size  chunk_size  time  latitude  longitude  workers  \\\n",
       "0    38.058817  36379929600   194987520   NaN       182        360        4   \n",
       "1    38.475415  36379929600    97493760   NaN       182        180        4   \n",
       "2    38.962101  36379929600    48746880   NaN        91        180        4   \n",
       "3    39.011292  36379929600    97493760   NaN        91        360        4   \n",
       "4    50.406360  36379929600     6093360  93.0        91        180        4   \n",
       "..         ...          ...         ...   ...       ...        ...      ...   \n",
       "112  17.296662  36379929600     6093360  93.0        91        180       16   \n",
       "113  18.460571  36379929600    97493760   NaN       182        180       16   \n",
       "114  18.579301  36379929600    97493760   NaN        91        360       16   \n",
       "115  20.263248  36379929600   194987520   NaN       182        360       16   \n",
       "116  20.702859  36379929600   389975040   NaN       182        720       16   \n",
       "\n",
       "     threads  \n",
       "0          1  \n",
       "1          1  \n",
       "2          1  \n",
       "3          1  \n",
       "4          1  \n",
       "..       ...  \n",
       "112        1  \n",
       "113        1  \n",
       "114        1  \n",
       "115        1  \n",
       "116        1  \n",
       "\n",
       "[117 rows x 8 columns]"
      ]
     },
     "execution_count": 2,
     "metadata": {},
     "output_type": "execute_result"
    }
   ],
   "source": [
    "df = pandas.read_csv('read_speed/era5_t2_load.csv')\n",
    "df"
   ]
  },
  {
   "cell_type": "markdown",
   "metadata": {},
   "source": [
    "To start off with, let's look at the mean walltime for a given cluster and chunk size. I'll focus on a single thread as well."
   ]
  },
  {
   "cell_type": "code",
   "execution_count": 3,
   "metadata": {},
   "outputs": [],
   "source": [
    "mean = df.groupby(['workers','chunk_size','threads']).mean().reset_index()\n",
    "one_thread = mean[mean.threads == 1]"
   ]
  },
  {
   "cell_type": "markdown",
   "metadata": {},
   "source": [
    "and to narrow the results down further I'll select a single chunk layout of `{'time': None, 'latitude': 91, 'longitude': 180}`. This is the file chunk size in the horizontal dimensions, about 49 MB per chunk."
   ]
  },
  {
   "cell_type": "code",
   "execution_count": 4,
   "metadata": {
    "tags": [
     "hide-input"
    ]
   },
   "outputs": [
    {
     "data": {
      "text/html": [
       "<div>\n",
       "<style scoped>\n",
       "    .dataframe tbody tr th:only-of-type {\n",
       "        vertical-align: middle;\n",
       "    }\n",
       "\n",
       "    .dataframe tbody tr th {\n",
       "        vertical-align: top;\n",
       "    }\n",
       "\n",
       "    .dataframe thead th {\n",
       "        text-align: right;\n",
       "    }\n",
       "</style>\n",
       "<table border=\"1\" class=\"dataframe\">\n",
       "  <thead>\n",
       "    <tr style=\"text-align: right;\">\n",
       "      <th></th>\n",
       "      <th>workers</th>\n",
       "      <th>chunk_size</th>\n",
       "      <th>threads</th>\n",
       "      <th>duration</th>\n",
       "      <th>data_size</th>\n",
       "      <th>time</th>\n",
       "      <th>latitude</th>\n",
       "      <th>longitude</th>\n",
       "    </tr>\n",
       "    <tr>\n",
       "      <th>workers</th>\n",
       "      <th></th>\n",
       "      <th></th>\n",
       "      <th></th>\n",
       "      <th></th>\n",
       "      <th></th>\n",
       "      <th></th>\n",
       "      <th></th>\n",
       "      <th></th>\n",
       "    </tr>\n",
       "  </thead>\n",
       "  <tbody>\n",
       "    <tr>\n",
       "      <th>1</th>\n",
       "      <td>1</td>\n",
       "      <td>48746880</td>\n",
       "      <td>1</td>\n",
       "      <td>192.943019</td>\n",
       "      <td>3.637993e+10</td>\n",
       "      <td>NaN</td>\n",
       "      <td>91.0</td>\n",
       "      <td>180.0</td>\n",
       "    </tr>\n",
       "    <tr>\n",
       "      <th>2</th>\n",
       "      <td>2</td>\n",
       "      <td>48746880</td>\n",
       "      <td>1</td>\n",
       "      <td>86.172158</td>\n",
       "      <td>3.637993e+10</td>\n",
       "      <td>NaN</td>\n",
       "      <td>91.0</td>\n",
       "      <td>180.0</td>\n",
       "    </tr>\n",
       "    <tr>\n",
       "      <th>4</th>\n",
       "      <td>4</td>\n",
       "      <td>48746880</td>\n",
       "      <td>1</td>\n",
       "      <td>39.269419</td>\n",
       "      <td>3.637993e+10</td>\n",
       "      <td>NaN</td>\n",
       "      <td>91.0</td>\n",
       "      <td>180.0</td>\n",
       "    </tr>\n",
       "    <tr>\n",
       "      <th>8</th>\n",
       "      <td>8</td>\n",
       "      <td>48746880</td>\n",
       "      <td>1</td>\n",
       "      <td>21.874852</td>\n",
       "      <td>3.637993e+10</td>\n",
       "      <td>NaN</td>\n",
       "      <td>91.0</td>\n",
       "      <td>180.0</td>\n",
       "    </tr>\n",
       "    <tr>\n",
       "      <th>16</th>\n",
       "      <td>16</td>\n",
       "      <td>48746880</td>\n",
       "      <td>1</td>\n",
       "      <td>13.159739</td>\n",
       "      <td>3.637993e+10</td>\n",
       "      <td>NaN</td>\n",
       "      <td>91.0</td>\n",
       "      <td>180.0</td>\n",
       "    </tr>\n",
       "    <tr>\n",
       "      <th>32</th>\n",
       "      <td>32</td>\n",
       "      <td>48746880</td>\n",
       "      <td>1</td>\n",
       "      <td>7.959964</td>\n",
       "      <td>3.637993e+10</td>\n",
       "      <td>NaN</td>\n",
       "      <td>91.0</td>\n",
       "      <td>180.0</td>\n",
       "    </tr>\n",
       "    <tr>\n",
       "      <th>48</th>\n",
       "      <td>48</td>\n",
       "      <td>48746880</td>\n",
       "      <td>1</td>\n",
       "      <td>6.344361</td>\n",
       "      <td>3.637993e+10</td>\n",
       "      <td>NaN</td>\n",
       "      <td>91.0</td>\n",
       "      <td>180.0</td>\n",
       "    </tr>\n",
       "  </tbody>\n",
       "</table>\n",
       "</div>"
      ],
      "text/plain": [
       "         workers  chunk_size  threads    duration     data_size  time  \\\n",
       "workers                                                                 \n",
       "1              1    48746880        1  192.943019  3.637993e+10   NaN   \n",
       "2              2    48746880        1   86.172158  3.637993e+10   NaN   \n",
       "4              4    48746880        1   39.269419  3.637993e+10   NaN   \n",
       "8              8    48746880        1   21.874852  3.637993e+10   NaN   \n",
       "16            16    48746880        1   13.159739  3.637993e+10   NaN   \n",
       "32            32    48746880        1    7.959964  3.637993e+10   NaN   \n",
       "48            48    48746880        1    6.344361  3.637993e+10   NaN   \n",
       "\n",
       "         latitude  longitude  \n",
       "workers                       \n",
       "1            91.0      180.0  \n",
       "2            91.0      180.0  \n",
       "4            91.0      180.0  \n",
       "8            91.0      180.0  \n",
       "16           91.0      180.0  \n",
       "32           91.0      180.0  \n",
       "48           91.0      180.0  "
      ]
     },
     "execution_count": 4,
     "metadata": {},
     "output_type": "execute_result"
    }
   ],
   "source": [
    "df_91_180 = one_thread[(one_thread.latitude==91) & (one_thread.longitude==180) & numpy.isnan(one_thread.time)]\n",
    "df_91_180 = df_91_180.set_index('workers', drop=False)\n",
    "df_91_180"
   ]
  },
  {
   "cell_type": "markdown",
   "metadata": {},
   "source": [
    "Plotting the walltime taken for different worker sizes looks good, ideally this should be proportional to $ 1 / \\textrm{workers}$.\n",
    "\n",
    ":::{note}\n",
    "The maximum number of CPUs on a single Gadi node is 48, and the default Dask cluster can't go beyond that.\n",
    ":::"
   ]
  },
  {
   "cell_type": "code",
   "execution_count": 5,
   "metadata": {
    "tags": [
     "hide-input"
    ]
   },
   "outputs": [
    {
     "data": {
      "image/png": "[encoded data removed]",
      "text/plain": [
       "<Figure size 432x288 with 1 Axes>"
      ]
     },
     "metadata": {
      "needs_background": "light"
     },
     "output_type": "display_data"
    }
   ],
   "source": [
    "wall = (df_91_180['duration'])\n",
    "wall.plot()\n",
    "plt.ylabel('walltime (s)');"
   ]
  },
  {
   "cell_type": "markdown",
   "metadata": {},
   "source": [
    "Gadi's run costs are proportional to $\\textrm{walltime}\\times\\textrm{workers}$. The cost minimum is at about 4 workers.\n",
    "\n",
    ":::{note}\n",
    "Remember this is the cost for _just_ loading the data and calculating the global mean. Further processing can affect the cost scaling as well\n",
    ":::"
   ]
  },
  {
   "cell_type": "code",
   "execution_count": 6,
   "metadata": {
    "tags": [
     "hide-input"
    ]
   },
   "outputs": [
    {
     "data": {
      "image/png": "[encoded data removed]",
      "text/plain": [
       "<Figure size 432x288 with 1 Axes>"
      ]
     },
     "metadata": {
      "needs_background": "light"
     },
     "output_type": "display_data"
    }
   ],
   "source": [
    "cost = (df_91_180['duration'] * df_91_180['workers']/60/60*2)\n",
    "cost.plot(color='tab:orange')\n",
    "plt.ylabel('cost (Gadi SU)');"
   ]
  },
  {
   "cell_type": "markdown",
   "metadata": {},
   "source": [
    "To find a good balance of walltime and cost we want to minimise $\\textrm{walltime}\\times\\textrm{cost}$. The best worker count by this metric for this single operation is 32 workers."
   ]
  },
  {
   "cell_type": "code",
   "execution_count": 7,
   "metadata": {
    "tags": [
     "hide-input"
    ]
   },
   "outputs": [
    {
     "data": {
      "image/png": "[encoded data removed]",
      "text/plain": [
       "<Figure size 432x288 with 1 Axes>"
      ]
     },
     "metadata": {
      "needs_background": "light"
     },
     "output_type": "display_data"
    }
   ],
   "source": [
    "(wall * cost).plot(color='tab:green')\n",
    "plt.ylim([0,2.5])\n",
    "plt.ylabel('scaling metric (lower is better)');"
   ]
  },
  {
   "cell_type": "markdown",
   "metadata": {},
   "source": [
    "We've worked out the best worker count to use, how about the chunk size? The best size here is in the 50 to 100 MB range. Generally the chunk size should be an integer multiple of the file chunk size to make things easy for the NetCDF library, but this doesn't have a huge effect."
   ]
  },
  {
   "cell_type": "code",
   "execution_count": 8,
   "metadata": {
    "tags": [
     "hide-input"
    ]
   },
   "outputs": [
    {
     "data": {
      "image/png": "[encoded data removed]",
      "text/plain": [
       "<Figure size 432x288 with 1 Axes>"
      ]
     },
     "metadata": {
      "needs_background": "light"
     },
     "output_type": "display_data"
    }
   ],
   "source": [
    "one_thread[one_thread.workers == 32].plot('chunk_size','duration', legend=False)\n",
    "\n",
    "xlabels = ['0 MB', '100 MB', '200 MB', '300 MB', '400 MB']\n",
    "plt.xticks([dask.utils.parse_bytes(x) for x in xlabels], labels=xlabels)\n",
    "\n",
    "plt.xlabel('chunk size');\n",
    "plt.ylabel('walltime (s)');"
   ]
  },
  {
   "cell_type": "code",
   "execution_count": 71,
   "metadata": {
    "tags": [
     "hide-input"
    ]
   },
   "outputs": [],
   "source": [
    "def result_scaling(df):\n",
    "    wall = df['duration']\n",
    "    cost = df['duration'] * df['workers'] / 60 / 60 * 2\n",
    "    scaling = wall * cost\n",
    "    return wall, cost, scaling\n",
    "\n",
    "def plot_results(csv, target_workers=32):\n",
    "    df = pandas.read_csv(csv)\n",
    "    \n",
    "    mean = df.groupby(['workers','chunk_size','threads']).mean().reset_index()\n",
    "    one_thread = mean[mean.threads == 1]\n",
    "    df_91_180 = one_thread[(one_thread.latitude==91) & (one_thread.longitude==180)]\n",
    "    df_91_180 = df_91_180.set_index('workers', drop=False)\n",
    "    \n",
    "    wall, cost, scaling = result_scaling(df_91_180)\n",
    "    \n",
    "    ax = plt.subplot(2,3,1)\n",
    "    wall.plot(ax=ax, color='tab:blue')\n",
    "    plt.ylabel('walltime (s)');\n",
    "        \n",
    "    ax = plt.subplot(2,3,2)\n",
    "    cost.plot(color='tab:orange')\n",
    "    plt.ylabel('cost (Gadi SU)');\n",
    "    \n",
    "    ax = plt.subplot(2,3,3)\n",
    "    scaling.plot(color='tab:green')\n",
    "    #plt.ylim([0,1200])\n",
    "    plt.ylabel('scaling metric (lower is better)');\n",
    "    \n",
    "    df_chunksize = one_thread[one_thread.workers == target_workers].set_index('chunk_size', drop=False)\n",
    "    wall, cost, scaling = result_scaling(df_chunksize)\n",
    "    \n",
    "    xlabels = ['0 MB', '100 MB', '200 MB', '300 MB']\n",
    "    \n",
    "    ax = plt.subplot(2,3,4)\n",
    "    wall.plot(ax=ax, color='tab:blue')\n",
    "    plt.xticks([dask.utils.parse_bytes(x) for x in xlabels], labels=xlabels)\n",
    "    plt.xlabel('chunk size');\n",
    "    plt.ylabel('walltime (s)');\n",
    "    \n",
    "    ax = plt.subplot(2,3,5)\n",
    "    cost.plot(ax=ax, color='tab:orange')\n",
    "    plt.xticks([dask.utils.parse_bytes(x) for x in xlabels], labels=xlabels)\n",
    "    plt.xlabel('chunk size');\n",
    "    plt.ylabel('cost (Gadi SU)');\n",
    "    \n",
    "    ax = plt.subplot(2,3,6)\n",
    "    scaling.plot(ax=ax, color='tab:green')\n",
    "    plt.xticks([dask.utils.parse_bytes(x) for x in xlabels], labels=xlabels)\n",
    "    plt.xlabel('chunk size');\n",
    "    plt.ylabel('scaling metric (lower is better)');\n",
    "\n",
    "def optimal_size(csv):\n",
    "    df = pandas.read_csv(csv)\n",
    "    mean = df.groupby(['workers','chunk_size','threads']).mean().reset_index()\n",
    "    \n",
    "    cost = mean['duration']*mean['duration']*mean['workers']\n",
    "    opt = mean.iloc[cost.sort_values().index[0]]\n",
    "    print(f'Workers:  {opt.workers:2.0f}')\n",
    "    print(f'Threads:  {opt.threads:2.0f}')\n",
    "    print(f\"Walltime:  {pandas.Timedelta(opt.duration, 's').round('s')}\")\n",
    "    print(f\"Cost:     {(opt.duration/60/60)**2*opt.workers*2:5.2f} SU\")\n",
    "    print(f\"Chunks:   {opt[['latitude', 'longitude']].to_dict()}\")"
   ]
  },
  {
   "cell_type": "markdown",
   "metadata": {},
   "source": [
    "## ERA5 10-year climatology\n",
    "\n",
    "Calculating a daily mean climatology from 10 years of hourly ERA5 data, using climtas functions for resampling and groupby, saving the results to a compressed netcdf file.\n",
    "\n",
    "\n",
    "```python\n",
    "path = \"/g/data/rt52/era5/single-levels/reanalysis/2t/200*/2t_era5_oper_sfc_*.nc\"\n",
    "var = 't2m'\n",
    "\n",
    "with xarray.open_mfdataset(\n",
    "    path, combine=\"nested\", concat_dim=\"time\", chunks=chunks\n",
    ") as ds:\n",
    "    var = ds[variable]\n",
    "    if isel is not None:\n",
    "        var = var.isel(**isel)\n",
    "\n",
    "    out = os.path.join(os.environ['TMPDIR'],'sample.nc')\n",
    "\n",
    "    start = time.perf_counter()\n",
    "    daily = climtas.blocked_resample(var, time=24).mean()\n",
    "    climatology = climtas.blocked_groupby(daily, time='dayofyear').mean()\n",
    "    climtas.io.to_netcdf_throttled(climatology, out)\n",
    "    duration = time.perf_counter() - start\n",
    "\n",
    "```"
   ]
  },
  {
   "cell_type": "code",
   "execution_count": 25,
   "metadata": {
    "tags": [
     "hide-input"
    ]
   },
   "outputs": [
    {
     "name": "stdout",
     "output_type": "stream",
     "text": [
      "Workers: 48.0\n"
     ]
    },
    {
     "data": {
      "image/png": "[encoded data removed]",
      "text/plain": [
       "<Figure size 1440x720 with 6 Axes>"
      ]
     },
     "metadata": {
      "needs_background": "light"
     },
     "output_type": "display_data"
    }
   ],
   "source": [
    "plt.figure(figsize=(20,10))\n",
    "plot_results('read_speed/era5_t2_climatology.csv', target_workers=32)"
   ]
  },
  {
   "cell_type": "markdown",
   "metadata": {},
   "source": [
    "### Optimal results:"
   ]
  },
  {
   "cell_type": "code",
   "execution_count": 72,
   "metadata": {
    "tags": [
     "hide-input"
    ]
   },
   "outputs": [
    {
     "name": "stdout",
     "output_type": "stream",
     "text": [
      "Workers:  32\n",
      "Threads:   1\n",
      "Walltime:  0 days 00:02:41\n",
      "Cost:      0.13 SU\n",
      "Chunks:   {'latitude': 91.0, 'longitude': 180.0}\n"
     ]
    }
   ],
   "source": [
    "optimal_size('read_speed/era5_t2_climatology.csv')"
   ]
  },
  {
   "cell_type": "code",
   "execution_count": null,
   "metadata": {},
   "outputs": [],
   "source": []
  }
 ],
 "metadata": {
  "kernelspec": {
   "display_name": "Python [conda env:analysis3]",
   "language": "python",
   "name": "conda-env-analysis3-py"
  },
  "language_info": {
   "codemirror_mode": {
    "name": "ipython",
    "version": 3
   },
   "file_extension": ".py",
   "mimetype": "text/x-python",
   "name": "python",
   "nbconvert_exporter": "python",
   "pygments_lexer": "ipython3",
   "version": "3.8.6"
  }
 },
 "nbformat": 4,
 "nbformat_minor": 4
}
